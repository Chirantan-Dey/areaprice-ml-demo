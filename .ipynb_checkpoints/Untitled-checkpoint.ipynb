{
 "cells": [
  {
   "cell_type": "code",
   "execution_count": 1,
   "id": "5c0ab2cb-3b19-423f-9f75-ec74c366275f",
   "metadata": {},
   "outputs": [
    {
     "name": "stdout",
     "output_type": "stream",
     "text": [
      "Failed to send message to +919761118111. Error: Call Time must be Greater than Wait Time as WhatsApp Web takes some Time to Load!\n",
      "Failed to send message to +919837018659. Error: Call Time must be Greater than Wait Time as WhatsApp Web takes some Time to Load!\n",
      "Failed to send message to +917060666412. Error: Call Time must be Greater than Wait Time as WhatsApp Web takes some Time to Load!\n"
     ]
    }
   ],
   "source": [
    "import pywhatkit as pw\n",
    "import time\n",
    "\n",
    "# Function to send bulk WhatsApp messages\n",
    "def send_bulk_whatsapp_messages(messages, recipient_numbers, wait_time=20):\n",
    "    \"\"\"\n",
    "    Send bulk WhatsApp messages using pywhatkit.\n",
    "\n",
    "    Parameters:\n",
    "        messages (list): List of messages to send.\n",
    "        recipient_numbers (list): List of recipient phone numbers in international format (with country code).\n",
    "        wait_time (int): Time to wait in seconds between sending each message.\n",
    "    \"\"\"\n",
    "    for message, recipient_number in zip(messages, recipient_numbers):\n",
    "        try:\n",
    "            pw.sendwhatmsg(recipient_number, message, time.localtime().tm_hour, time.localtime().tm_min + 1)\n",
    "            print(f\"Message sent successfully to {recipient_number}\")\n",
    "            time.sleep(wait_time)  # Wait between messages\n",
    "        except Exception as e:\n",
    "            print(f\"Failed to send message to {recipient_number}. Error: {str(e)}\")\n",
    "\n",
    "# Example usage\n",
    "if __name__ == \"__main__\":\n",
    "    messages = [\n",
    "        \"Hello, testing\",\n",
    "        \"This is another test message.\",\n",
    "        \"Yet another test message for bulk sending.\"\n",
    "    ]\n",
    "    recipient_numbers = [\n",
    "        \"+919761118111\",  # Example recipient phone number 1\n",
    "        \"+919837018659\",  # Example recipient phone number 2\n",
    "        \"+917060666412\"   # Example recipient phone number 3\n",
    "    ]\n",
    "    send_bulk_whatsapp_messages(messages, recipient_numbers)\n"
   ]
  },
  {
   "cell_type": "code",
   "execution_count": null,
   "id": "e0431990-a33f-4dd7-a241-4bb0a3f61178",
   "metadata": {},
   "outputs": [],
   "source": []
  }
 ],
 "metadata": {
  "kernelspec": {
   "display_name": "Python 3 (ipykernel)",
   "language": "python",
   "name": "python3"
  },
  "language_info": {
   "codemirror_mode": {
    "name": "ipython",
    "version": 3
   },
   "file_extension": ".py",
   "mimetype": "text/x-python",
   "name": "python",
   "nbconvert_exporter": "python",
   "pygments_lexer": "ipython3",
   "version": "3.12.1"
  }
 },
 "nbformat": 4,
 "nbformat_minor": 5
}
